{
 "cells": [
  {
   "cell_type": "code",
   "execution_count": 6,
   "id": "915b32c4",
   "metadata": {},
   "outputs": [],
   "source": [
    "import snscrape.modules.twitter as sntwitter\n",
    "import pandas as pd"
   ]
  },
  {
   "cell_type": "code",
   "execution_count": 7,
   "id": "3c0f2c90",
   "metadata": {},
   "outputs": [
    {
     "name": "stderr",
     "output_type": "stream",
     "text": [
      "<ipython-input-7-a666a4e1f78e>:11: FutureWarning: username is deprecated, use user.username instead\n",
      "  tweets_list2.append([tweet.date, tweet.id, tweet.content, tweet.username])\n"
     ]
    }
   ],
   "source": [
    "# Setting variables to be used below\n",
    "maxTweets = 1000000\n",
    "\n",
    "# Creating list to append tweet data to\n",
    "tweets_list2 = []\n",
    "\n",
    "# Using TwitterSearchScraper to scrape data and append tweets to list\n",
    "for i,tweet in enumerate(sntwitter.TwitterSearchScraper('pantai cermin since:2020-01-01 until:2022-05-10').get_items()):\n",
    "    if i>maxTweets:\n",
    "        break\n",
    "    tweets_list2.append([tweet.date, tweet.id, tweet.content, tweet.username])"
   ]
  },
  {
   "cell_type": "code",
   "execution_count": 8,
   "id": "8ef18fef",
   "metadata": {},
   "outputs": [],
   "source": [
    "# Creating a dataframe from the tweets list above\n",
    "tweets_df2 = pd.DataFrame(tweets_list2, columns=['Datetime', 'Tweet Id', 'Text', 'Username'])"
   ]
  },
  {
   "cell_type": "code",
   "execution_count": 9,
   "id": "fbf989a3",
   "metadata": {},
   "outputs": [],
   "source": [
    "tweets_df2.to_csv(\"pantai_cermin.csv\", index = False)"
   ]
  },
  {
   "cell_type": "code",
   "execution_count": 10,
   "id": "0dda2084",
   "metadata": {},
   "outputs": [],
   "source": [
    "import pandas as pd"
   ]
  },
  {
   "cell_type": "code",
   "execution_count": 12,
   "id": "005ce8b3",
   "metadata": {},
   "outputs": [],
   "source": [
    "data = pd.read_csv('pantai_cermin.csv')"
   ]
  },
  {
   "cell_type": "code",
   "execution_count": 13,
   "id": "4092b257",
   "metadata": {},
   "outputs": [
    {
     "data": {
      "text/plain": [
       "(4742, 4)"
      ]
     },
     "execution_count": 13,
     "metadata": {},
     "output_type": "execute_result"
    }
   ],
   "source": [
    "\n",
    "\n",
    "data.shape\n",
    "\n"
   ]
  },
  {
   "cell_type": "code",
   "execution_count": 14,
   "id": "22476dc7",
   "metadata": {},
   "outputs": [
    {
     "data": {
      "text/html": [
       "<div>\n",
       "<style scoped>\n",
       "    .dataframe tbody tr th:only-of-type {\n",
       "        vertical-align: middle;\n",
       "    }\n",
       "\n",
       "    .dataframe tbody tr th {\n",
       "        vertical-align: top;\n",
       "    }\n",
       "\n",
       "    .dataframe thead th {\n",
       "        text-align: right;\n",
       "    }\n",
       "</style>\n",
       "<table border=\"1\" class=\"dataframe\">\n",
       "  <thead>\n",
       "    <tr style=\"text-align: right;\">\n",
       "      <th></th>\n",
       "      <th>Datetime</th>\n",
       "      <th>Tweet Id</th>\n",
       "      <th>Text</th>\n",
       "      <th>Username</th>\n",
       "    </tr>\n",
       "  </thead>\n",
       "  <tbody>\n",
       "    <tr>\n",
       "      <th>0</th>\n",
       "      <td>2022-05-09 02:54:02+00:00</td>\n",
       "      <td>1523496486310641664</td>\n",
       "      <td>Personil SPKT Polsek pantai cermin melaksanaka...</td>\n",
       "      <td>cermin_polsek</td>\n",
       "    </tr>\n",
       "    <tr>\n",
       "      <th>1</th>\n",
       "      <td>2022-05-09 02:53:44+00:00</td>\n",
       "      <td>1523496411995983873</td>\n",
       "      <td>Kegiatan apel pagi personil Polsek pantai cerm...</td>\n",
       "      <td>cermin_polsek</td>\n",
       "    </tr>\n",
       "    <tr>\n",
       "      <th>2</th>\n",
       "      <td>2022-05-08 08:28:48+00:00</td>\n",
       "      <td>1523218346677702656</td>\n",
       "      <td>@midunbukanmadun Pantai cermin kita</td>\n",
       "      <td>Myuu_raaa</td>\n",
       "    </tr>\n",
       "    <tr>\n",
       "      <th>3</th>\n",
       "      <td>2022-05-06 14:41:33+00:00</td>\n",
       "      <td>1522587378489393154</td>\n",
       "      <td>@chasgraveur_ maennya jangan ke pantai cermin ...</td>\n",
       "      <td>CoklatStandar</td>\n",
       "    </tr>\n",
       "    <tr>\n",
       "      <th>4</th>\n",
       "      <td>2022-05-06 14:40:02+00:00</td>\n",
       "      <td>1522586996123717633</td>\n",
       "      <td>@Aestheticluvluv @forgguktaee ke pantai cermin...</td>\n",
       "      <td>taewonnies</td>\n",
       "    </tr>\n",
       "  </tbody>\n",
       "</table>\n",
       "</div>"
      ],
      "text/plain": [
       "                    Datetime             Tweet Id  \\\n",
       "0  2022-05-09 02:54:02+00:00  1523496486310641664   \n",
       "1  2022-05-09 02:53:44+00:00  1523496411995983873   \n",
       "2  2022-05-08 08:28:48+00:00  1523218346677702656   \n",
       "3  2022-05-06 14:41:33+00:00  1522587378489393154   \n",
       "4  2022-05-06 14:40:02+00:00  1522586996123717633   \n",
       "\n",
       "                                                Text       Username  \n",
       "0  Personil SPKT Polsek pantai cermin melaksanaka...  cermin_polsek  \n",
       "1  Kegiatan apel pagi personil Polsek pantai cerm...  cermin_polsek  \n",
       "2                @midunbukanmadun Pantai cermin kita      Myuu_raaa  \n",
       "3  @chasgraveur_ maennya jangan ke pantai cermin ...  CoklatStandar  \n",
       "4  @Aestheticluvluv @forgguktaee ke pantai cermin...     taewonnies  "
      ]
     },
     "execution_count": 14,
     "metadata": {},
     "output_type": "execute_result"
    }
   ],
   "source": [
    "\n",
    "\n",
    "data.head()\n",
    "\n"
   ]
  },
  {
   "cell_type": "code",
   "execution_count": 15,
   "id": "e849bf38",
   "metadata": {},
   "outputs": [
    {
     "data": {
      "text/html": [
       "<div>\n",
       "<style scoped>\n",
       "    .dataframe tbody tr th:only-of-type {\n",
       "        vertical-align: middle;\n",
       "    }\n",
       "\n",
       "    .dataframe tbody tr th {\n",
       "        vertical-align: top;\n",
       "    }\n",
       "\n",
       "    .dataframe thead th {\n",
       "        text-align: right;\n",
       "    }\n",
       "</style>\n",
       "<table border=\"1\" class=\"dataframe\">\n",
       "  <thead>\n",
       "    <tr style=\"text-align: right;\">\n",
       "      <th></th>\n",
       "      <th>Datetime</th>\n",
       "      <th>Tweet Id</th>\n",
       "      <th>Text</th>\n",
       "      <th>Username</th>\n",
       "    </tr>\n",
       "  </thead>\n",
       "  <tbody>\n",
       "    <tr>\n",
       "      <th>4737</th>\n",
       "      <td>2020-01-02 06:02:34+00:00</td>\n",
       "      <td>1212615144531849217</td>\n",
       "      <td>Serah terima piket penjagaan polsek pantai cer...</td>\n",
       "      <td>polressergai</td>\n",
       "    </tr>\n",
       "    <tr>\n",
       "      <th>4738</th>\n",
       "      <td>2020-01-01 08:04:35+00:00</td>\n",
       "      <td>1212283464222818304</td>\n",
       "      <td>@MoniqueAubrey Belum lagi Derawan,labuan cermi...</td>\n",
       "      <td>GlemardaNorby</td>\n",
       "    </tr>\n",
       "    <tr>\n",
       "      <th>4739</th>\n",
       "      <td>2020-01-01 07:53:22+00:00</td>\n",
       "      <td>1212280641108078592</td>\n",
       "      <td>Dalam Pelaksanaan Pengamanan Tahun Baru 2020,K...</td>\n",
       "      <td>polressergai</td>\n",
       "    </tr>\n",
       "    <tr>\n",
       "      <th>4740</th>\n",
       "      <td>2020-01-01 04:02:16+00:00</td>\n",
       "      <td>1212222483832524801</td>\n",
       "      <td>Apel kesiapan pengamanan arus lalu lintas diob...</td>\n",
       "      <td>polressergai</td>\n",
       "    </tr>\n",
       "    <tr>\n",
       "      <th>4741</th>\n",
       "      <td>2020-01-01 02:15:20+00:00</td>\n",
       "      <td>1212195573475840001</td>\n",
       "      <td>Kegiatan pengaturan di simp tiga pantai cermin...</td>\n",
       "      <td>polressergai</td>\n",
       "    </tr>\n",
       "  </tbody>\n",
       "</table>\n",
       "</div>"
      ],
      "text/plain": [
       "                       Datetime             Tweet Id  \\\n",
       "4737  2020-01-02 06:02:34+00:00  1212615144531849217   \n",
       "4738  2020-01-01 08:04:35+00:00  1212283464222818304   \n",
       "4739  2020-01-01 07:53:22+00:00  1212280641108078592   \n",
       "4740  2020-01-01 04:02:16+00:00  1212222483832524801   \n",
       "4741  2020-01-01 02:15:20+00:00  1212195573475840001   \n",
       "\n",
       "                                                   Text       Username  \n",
       "4737  Serah terima piket penjagaan polsek pantai cer...   polressergai  \n",
       "4738  @MoniqueAubrey Belum lagi Derawan,labuan cermi...  GlemardaNorby  \n",
       "4739  Dalam Pelaksanaan Pengamanan Tahun Baru 2020,K...   polressergai  \n",
       "4740  Apel kesiapan pengamanan arus lalu lintas diob...   polressergai  \n",
       "4741  Kegiatan pengaturan di simp tiga pantai cermin...   polressergai  "
      ]
     },
     "execution_count": 15,
     "metadata": {},
     "output_type": "execute_result"
    }
   ],
   "source": [
    "\n",
    "\n",
    "data.tail()\n",
    "\n"
   ]
  },
  {
   "cell_type": "code",
   "execution_count": null,
   "id": "d4c623c8",
   "metadata": {},
   "outputs": [],
   "source": []
  }
 ],
 "metadata": {
  "kernelspec": {
   "display_name": "Python 3",
   "language": "python",
   "name": "python3"
  },
  "language_info": {
   "codemirror_mode": {
    "name": "ipython",
    "version": 3
   },
   "file_extension": ".py",
   "mimetype": "text/x-python",
   "name": "python",
   "nbconvert_exporter": "python",
   "pygments_lexer": "ipython3",
   "version": "3.8.8"
  }
 },
 "nbformat": 4,
 "nbformat_minor": 5
}
