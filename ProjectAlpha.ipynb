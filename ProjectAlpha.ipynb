{
 "cells": [
  {
   "cell_type": "code",
   "execution_count": 1,
   "id": "33515680",
   "metadata": {},
   "outputs": [],
   "source": [
    "# Library\n",
    "import tweepy\n",
    "from textblob import TextBlob\n",
    "from wordcloud import WordCloud\n",
    "import pandas as pd\n",
    "import numpy as np\n",
    "import re\n",
    "import matplotlib.pyplot as plt\n",
    "plt.style.use('fivethirtyeight')"
   ]
  },
  {
   "cell_type": "code",
   "execution_count": 2,
   "id": "19a02923",
   "metadata": {},
   "outputs": [],
   "source": [
    "#API\n",
    "consumerKey= 'PwzJphp77hozL00hGDQmXSWy1'\n",
    "consumerSecret = 'doIRpZuDj4jfJdxdAeL0iGcnaafhRPAeEsfZlJJx35nD9zFOES' \n",
    "accessToken = '450356051-muXFlvI7PFSbqKyeusbgbGkBCNAjiuvsjWdfcxkm'\n",
    "accessTokenSecret = 'EqSwox9HKPCAs4K9AMivlj9YYfTPDtgE3Wen0WvAii9mX'"
   ]
  },
  {
   "cell_type": "code",
   "execution_count": 3,
   "id": "8302b19c",
   "metadata": {},
   "outputs": [],
   "source": [
    "#auth\n",
    "auth = tweepy.OAuthHandler(consumerKey, consumerSecret)\n",
    "auth.set_access_token(accessToken, accessTokenSecret)\n",
    "\n",
    "\n",
    "api = tweepy.API(auth,wait_on_rate_limit=True)"
   ]
  },
  {
   "cell_type": "code",
   "execution_count": 4,
   "id": "2a6cdb34",
   "metadata": {},
   "outputs": [],
   "source": [
    "resultSearch= api.search(q=\"vaksinasi lansia di indonesia\", lang=\"id\" ,count=10)\n",
    "#hasilsearch = input(\"Enter the word here: \")"
   ]
  },
  {
   "cell_type": "code",
   "execution_count": 14,
   "id": "c57c7ced",
   "metadata": {},
   "outputs": [],
   "source": [
    "#Processing\n",
    "AnalysisResult = []\n",
    "for tweet in resultSearch:\n",
    "    tweet_properties = {}\n",
    "    tweet_properties[\"time_tweet\"] = tweet.created_at\n",
    "    tweet_properties[\"user\"] = tweet.user.screen_name\n",
    "    tweet_properties[\"text\"] =tweet.text\n",
    "    tweet_clean = ' '.join(re.sub(\"(@[A-Za-z0-9]+)|([^0-9A-Za-z \\t])|(\\w+:\\/\\/\\S+)\",\" \",tweet.text).split())\n",
    "    \n",
    "    \n",
    "    analysis = TextBlob(tweet_clean)\n",
    "       \n",
    "    \n",
    "    if analysis.sentiment.polarity > 0.0:\n",
    "        tweet_properties[\"sentiment\"] = \"positive\"\n",
    "    elif analysis.sentiment.polarity == 0.0:\n",
    "        tweet_properties[\"sentiment\"] = \"netral\"\n",
    "    else:\n",
    "        tweet_properties[\"sentiment\"] = \"negative\"\n",
    "        \n",
    "    \n",
    "        \n",
    "        \n",
    "    if tweet.retweet_count > 0:\n",
    "        if tweet_properties not in AnalysisResult:\n",
    "            AnalysisResult.append(tweet_properties)\n",
    "        else:\n",
    "            AnalysisResult.append(tweet_properties)\n",
    "        "
   ]
  },
  {
   "cell_type": "code",
   "execution_count": 15,
   "id": "087109c8",
   "metadata": {},
   "outputs": [
    {
     "data": {
      "text/plain": [
       "[{'time_tweet': datetime.datetime(2021, 11, 18, 16, 7, 8),\n",
       "  'user': 'titiktitikblank',\n",
       "  'text': 'RT @antaranews: Angka kematian kelompok lanjut usia atau usia 60 tahun ke atas tercatat hampir separuh dari total kematian akibat COVID-19…',\n",
       "  'sentiment': 'netral'},\n",
       " {'time_tweet': datetime.datetime(2021, 11, 18, 14, 19, 42),\n",
       "  'user': 'antaranews',\n",
       "  'text': 'Angka kematian kelompok lanjut usia atau usia 60 tahun ke atas tercatat hampir separuh dari total kematian akibat C… https://t.co/g43N9rhAyk',\n",
       "  'sentiment': 'netral'}]"
      ]
     },
     "execution_count": 15,
     "metadata": {},
     "output_type": "execute_result"
    }
   ],
   "source": [
    "AnalysisResult"
   ]
  },
  {
   "cell_type": "code",
   "execution_count": 16,
   "id": "cc2e7fb5",
   "metadata": {},
   "outputs": [],
   "source": [
    "tweet_positive = [t for t in AnalysisResult if t[\"sentiment\"]==\"positive\"]\n",
    "\n",
    "tweet_netral = [t for t in AnalysisResult if t[\"sentiment\"]==\"netral\"]\n",
    "\n",
    "tweet_negative = [t for t in AnalysisResult if t[\"sentiment\"]==\"negative\"]\n",
    "\n"
   ]
  },
  {
   "cell_type": "code",
   "execution_count": 17,
   "id": "55844ab8",
   "metadata": {},
   "outputs": [
    {
     "name": "stdout",
     "output_type": "stream",
     "text": [
      "Result \n",
      "positive : 0 (0.0%)\n",
      "netral   : 2 (100.0%)\n",
      "negative : 0 (0.0%)\n"
     ]
    }
   ],
   "source": [
    "#Result\n",
    "print(\"Result \")\n",
    "print(\"positive :\", len(tweet_positive), \"({}%)\".format(100*len(tweet_positive)/len(AnalysisResult)))\n",
    "print(\"netral :\", len(tweet_netral),\"({}%)\".format(100*len(tweet_netral)/len(AnalysisResult)))\n",
    "print(\"negative :\", len(tweet_negative),\"({}%)\".format(100*len(tweet_negative)/len(AnalysisResult)))"
   ]
  },
  {
   "cell_type": "code",
   "execution_count": null,
   "id": "01bdb8fe",
   "metadata": {},
   "outputs": [],
   "source": []
  }
 ],
 "metadata": {
  "kernelspec": {
   "display_name": "Python 3",
   "language": "python",
   "name": "python3"
  },
  "language_info": {
   "codemirror_mode": {
    "name": "ipython",
    "version": 3
   },
   "file_extension": ".py",
   "mimetype": "text/x-python",
   "name": "python",
   "nbconvert_exporter": "python",
   "pygments_lexer": "ipython3",
   "version": "3.8.8"
  }
 },
 "nbformat": 4,
 "nbformat_minor": 5
}
